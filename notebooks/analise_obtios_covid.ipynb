{
 "cells": [
  {
   "cell_type": "code",
   "execution_count": 1,
   "metadata": {
    "collapsed": true
   },
   "outputs": [
    {
     "output_type": "stream",
     "name": "stdout",
     "text": [
      "2019 (12379, 6)\n2020 (14852, 6)\n"
     ]
    }
   ],
   "source": [
    "import pandas as pd\n",
    "import seaborn as sns\n",
    "import matplotlib.pyplot as plt\n",
    "\n",
    "caminho_2019 = '../dados/obitos-2019.csv'\n",
    "caminho_2020 = '../dados/obitos-2020.csv'\n",
    "\n",
    "dados_2019 = pd.read_csv(caminho_2019)\n",
    "dados_2020 = pd.read_csv(caminho_2020)\n",
    "\n",
    "print(f'2019 {dados_2019.shape}')\n",
    "print(f'2020 {dados_2020.shape}')\n"
   ]
  },
  {
   "cell_type": "code",
   "execution_count": 2,
   "metadata": {},
   "outputs": [
    {
     "output_type": "execute_result",
     "data": {
      "text/plain": [
       "   uf tipo_doenca local_obito faixa_etaria sexo  total\n",
       "0  AC      OUTRAS   DOMICILIO          < 9    F      7\n",
       "1  AC      OUTRAS   DOMICILIO          < 9    M     15\n",
       "2  AC      OUTRAS    HOSPITAL          < 9    F     30\n",
       "3  AC      OUTRAS    HOSPITAL          < 9    M     55\n",
       "4  AC      OUTRAS    IGNORADO          < 9    M      1"
      ],
      "text/html": "<div>\n<style scoped>\n    .dataframe tbody tr th:only-of-type {\n        vertical-align: middle;\n    }\n\n    .dataframe tbody tr th {\n        vertical-align: top;\n    }\n\n    .dataframe thead th {\n        text-align: right;\n    }\n</style>\n<table border=\"1\" class=\"dataframe\">\n  <thead>\n    <tr style=\"text-align: right;\">\n      <th></th>\n      <th>uf</th>\n      <th>tipo_doenca</th>\n      <th>local_obito</th>\n      <th>faixa_etaria</th>\n      <th>sexo</th>\n      <th>total</th>\n    </tr>\n  </thead>\n  <tbody>\n    <tr>\n      <th>0</th>\n      <td>AC</td>\n      <td>OUTRAS</td>\n      <td>DOMICILIO</td>\n      <td>&lt; 9</td>\n      <td>F</td>\n      <td>7</td>\n    </tr>\n    <tr>\n      <th>1</th>\n      <td>AC</td>\n      <td>OUTRAS</td>\n      <td>DOMICILIO</td>\n      <td>&lt; 9</td>\n      <td>M</td>\n      <td>15</td>\n    </tr>\n    <tr>\n      <th>2</th>\n      <td>AC</td>\n      <td>OUTRAS</td>\n      <td>HOSPITAL</td>\n      <td>&lt; 9</td>\n      <td>F</td>\n      <td>30</td>\n    </tr>\n    <tr>\n      <th>3</th>\n      <td>AC</td>\n      <td>OUTRAS</td>\n      <td>HOSPITAL</td>\n      <td>&lt; 9</td>\n      <td>M</td>\n      <td>55</td>\n    </tr>\n    <tr>\n      <th>4</th>\n      <td>AC</td>\n      <td>OUTRAS</td>\n      <td>IGNORADO</td>\n      <td>&lt; 9</td>\n      <td>M</td>\n      <td>1</td>\n    </tr>\n  </tbody>\n</table>\n</div>"
     },
     "metadata": {},
     "execution_count": 2
    }
   ],
   "source": [
    "dados_2019.head()"
   ]
  },
  {
   "cell_type": "code",
   "execution_count": 3,
   "metadata": {},
   "outputs": [
    {
     "output_type": "execute_result",
     "data": {
      "text/plain": [
       "       uf    tipo_doenca            local_obito faixa_etaria sexo  total\n",
       "13985  SP  INDETERMINADA               HOSPITAL        > 100    M      1\n",
       "5809   MG         OUTRAS               IGNORADO      50 - 59    M    130\n",
       "5716   GO      PNEUMONIA               HOSPITAL      50 - 59    M    209\n",
       "13127  TO          COVID               HOSPITAL      90 - 99    M     24\n",
       "9552   RJ  INDETERMINADA  OUTROS_SERVICOS_SAUDE      70 - 79    F     42"
      ],
      "text/html": "<div>\n<style scoped>\n    .dataframe tbody tr th:only-of-type {\n        vertical-align: middle;\n    }\n\n    .dataframe tbody tr th {\n        vertical-align: top;\n    }\n\n    .dataframe thead th {\n        text-align: right;\n    }\n</style>\n<table border=\"1\" class=\"dataframe\">\n  <thead>\n    <tr style=\"text-align: right;\">\n      <th></th>\n      <th>uf</th>\n      <th>tipo_doenca</th>\n      <th>local_obito</th>\n      <th>faixa_etaria</th>\n      <th>sexo</th>\n      <th>total</th>\n    </tr>\n  </thead>\n  <tbody>\n    <tr>\n      <th>13985</th>\n      <td>SP</td>\n      <td>INDETERMINADA</td>\n      <td>HOSPITAL</td>\n      <td>&gt; 100</td>\n      <td>M</td>\n      <td>1</td>\n    </tr>\n    <tr>\n      <th>5809</th>\n      <td>MG</td>\n      <td>OUTRAS</td>\n      <td>IGNORADO</td>\n      <td>50 - 59</td>\n      <td>M</td>\n      <td>130</td>\n    </tr>\n    <tr>\n      <th>5716</th>\n      <td>GO</td>\n      <td>PNEUMONIA</td>\n      <td>HOSPITAL</td>\n      <td>50 - 59</td>\n      <td>M</td>\n      <td>209</td>\n    </tr>\n    <tr>\n      <th>13127</th>\n      <td>TO</td>\n      <td>COVID</td>\n      <td>HOSPITAL</td>\n      <td>90 - 99</td>\n      <td>M</td>\n      <td>24</td>\n    </tr>\n    <tr>\n      <th>9552</th>\n      <td>RJ</td>\n      <td>INDETERMINADA</td>\n      <td>OUTROS_SERVICOS_SAUDE</td>\n      <td>70 - 79</td>\n      <td>F</td>\n      <td>42</td>\n    </tr>\n  </tbody>\n</table>\n</div>"
     },
     "metadata": {},
     "execution_count": 3
    }
   ],
   "source": [
    "dados_2020.sample(5)"
   ]
  },
  {
   "cell_type": "code",
   "execution_count": 9,
   "metadata": {},
   "outputs": [
    {
     "output_type": "execute_result",
     "data": {
      "text/plain": [
       "27"
      ]
     },
     "metadata": {},
     "execution_count": 9
    }
   ],
   "source": [
    "len(dados_2020.uf.unique())"
   ]
  },
  {
   "cell_type": "code",
   "execution_count": 10,
   "metadata": {},
   "outputs": [
    {
     "output_type": "execute_result",
     "data": {
      "text/plain": [
       "array(['OUTRAS', 'COVID', 'INDETERMINADA', 'INSUFICIENCIA_RESPIRATORIA',\n",
       "       'PNEUMONIA', 'SEPTICEMIA', 'SRAG'], dtype=object)"
      ]
     },
     "metadata": {},
     "execution_count": 10
    }
   ],
   "source": [
    "dados_2020.tipo_doenca.unique()"
   ]
  },
  {
   "cell_type": "code",
   "execution_count": 11,
   "metadata": {},
   "outputs": [
    {
     "output_type": "execute_result",
     "data": {
      "text/plain": [
       "OUTRAS                        3845\n",
       "PNEUMONIA                     2353\n",
       "INSUFICIENCIA_RESPIRATORIA    2323\n",
       "SEPTICEMIA                    2063\n",
       "INDETERMINADA                 1307\n",
       "SRAG                           487\n",
       "COVID                            1\n",
       "Name: tipo_doenca, dtype: int64"
      ]
     },
     "metadata": {},
     "execution_count": 11
    }
   ],
   "source": [
    "dados_2019.tipo_doenca.value_counts()"
   ]
  },
  {
   "cell_type": "code",
   "execution_count": 18,
   "metadata": {},
   "outputs": [
    {
     "output_type": "execute_result",
     "data": {
      "text/plain": [
       "                             total\n",
       "tipo_doenca                       \n",
       "COVID                       192939\n",
       "INDETERMINADA                 9571\n",
       "INSUFICIENCIA_RESPIRATORIA   97859\n",
       "OUTRAS                      681820\n",
       "PNEUMONIA                   180222\n",
       "SEPTICEMIA                  161196\n",
       "SRAG                         16391"
      ],
      "text/html": "<div>\n<style scoped>\n    .dataframe tbody tr th:only-of-type {\n        vertical-align: middle;\n    }\n\n    .dataframe tbody tr th {\n        vertical-align: top;\n    }\n\n    .dataframe thead th {\n        text-align: right;\n    }\n</style>\n<table border=\"1\" class=\"dataframe\">\n  <thead>\n    <tr style=\"text-align: right;\">\n      <th></th>\n      <th>total</th>\n    </tr>\n    <tr>\n      <th>tipo_doenca</th>\n      <th></th>\n    </tr>\n  </thead>\n  <tbody>\n    <tr>\n      <th>COVID</th>\n      <td>192939</td>\n    </tr>\n    <tr>\n      <th>INDETERMINADA</th>\n      <td>9571</td>\n    </tr>\n    <tr>\n      <th>INSUFICIENCIA_RESPIRATORIA</th>\n      <td>97859</td>\n    </tr>\n    <tr>\n      <th>OUTRAS</th>\n      <td>681820</td>\n    </tr>\n    <tr>\n      <th>PNEUMONIA</th>\n      <td>180222</td>\n    </tr>\n    <tr>\n      <th>SEPTICEMIA</th>\n      <td>161196</td>\n    </tr>\n    <tr>\n      <th>SRAG</th>\n      <td>16391</td>\n    </tr>\n  </tbody>\n</table>\n</div>"
     },
     "metadata": {},
     "execution_count": 18
    }
   ],
   "source": [
    "total_obitos_2020 = dados_2020.groupby('tipo_doenca').sum()\n",
    "total_obitos_2020"
   ]
  },
  {
   "cell_type": "code",
   "execution_count": 19,
   "metadata": {},
   "outputs": [
    {
     "output_type": "execute_result",
     "data": {
      "text/plain": [
       "                             total\n",
       "tipo_doenca                       \n",
       "COVID                            1\n",
       "INDETERMINADA                 6984\n",
       "INSUFICIENCIA_RESPIRATORIA  100499\n",
       "OUTRAS                      659849\n",
       "PNEUMONIA                   226194\n",
       "SEPTICEMIA                  175433\n",
       "SRAG                          1498"
      ],
      "text/html": "<div>\n<style scoped>\n    .dataframe tbody tr th:only-of-type {\n        vertical-align: middle;\n    }\n\n    .dataframe tbody tr th {\n        vertical-align: top;\n    }\n\n    .dataframe thead th {\n        text-align: right;\n    }\n</style>\n<table border=\"1\" class=\"dataframe\">\n  <thead>\n    <tr style=\"text-align: right;\">\n      <th></th>\n      <th>total</th>\n    </tr>\n    <tr>\n      <th>tipo_doenca</th>\n      <th></th>\n    </tr>\n  </thead>\n  <tbody>\n    <tr>\n      <th>COVID</th>\n      <td>1</td>\n    </tr>\n    <tr>\n      <th>INDETERMINADA</th>\n      <td>6984</td>\n    </tr>\n    <tr>\n      <th>INSUFICIENCIA_RESPIRATORIA</th>\n      <td>100499</td>\n    </tr>\n    <tr>\n      <th>OUTRAS</th>\n      <td>659849</td>\n    </tr>\n    <tr>\n      <th>PNEUMONIA</th>\n      <td>226194</td>\n    </tr>\n    <tr>\n      <th>SEPTICEMIA</th>\n      <td>175433</td>\n    </tr>\n    <tr>\n      <th>SRAG</th>\n      <td>1498</td>\n    </tr>\n  </tbody>\n</table>\n</div>"
     },
     "metadata": {},
     "execution_count": 19
    }
   ],
   "source": [
    "total_obitos_2019 = dados_2019.groupby('tipo_doenca').sum()\n",
    "total_obitos_2019"
   ]
  },
  {
   "cell_type": "code",
   "execution_count": 20,
   "metadata": {},
   "outputs": [
    {
     "output_type": "execute_result",
     "data": {
      "text/plain": [
       "                                    total\n",
       "tipo_doenca                              \n",
       "COVID                       192939.000000\n",
       "INDETERMINADA                    1.370418\n",
       "INSUFICIENCIA_RESPIRATORIA       0.973731\n",
       "OUTRAS                           1.033297\n",
       "PNEUMONIA                        0.796759\n",
       "SEPTICEMIA                       0.918847\n",
       "SRAG                            10.941923"
      ],
      "text/html": "<div>\n<style scoped>\n    .dataframe tbody tr th:only-of-type {\n        vertical-align: middle;\n    }\n\n    .dataframe tbody tr th {\n        vertical-align: top;\n    }\n\n    .dataframe thead th {\n        text-align: right;\n    }\n</style>\n<table border=\"1\" class=\"dataframe\">\n  <thead>\n    <tr style=\"text-align: right;\">\n      <th></th>\n      <th>total</th>\n    </tr>\n    <tr>\n      <th>tipo_doenca</th>\n      <th></th>\n    </tr>\n  </thead>\n  <tbody>\n    <tr>\n      <th>COVID</th>\n      <td>192939.000000</td>\n    </tr>\n    <tr>\n      <th>INDETERMINADA</th>\n      <td>1.370418</td>\n    </tr>\n    <tr>\n      <th>INSUFICIENCIA_RESPIRATORIA</th>\n      <td>0.973731</td>\n    </tr>\n    <tr>\n      <th>OUTRAS</th>\n      <td>1.033297</td>\n    </tr>\n    <tr>\n      <th>PNEUMONIA</th>\n      <td>0.796759</td>\n    </tr>\n    <tr>\n      <th>SEPTICEMIA</th>\n      <td>0.918847</td>\n    </tr>\n    <tr>\n      <th>SRAG</th>\n      <td>10.941923</td>\n    </tr>\n  </tbody>\n</table>\n</div>"
     },
     "metadata": {},
     "execution_count": 20
    }
   ],
   "source": [
    "propocao = total_obitos_2020 / total_obitos_2019\n",
    "propocao"
   ]
  },
  {
   "source": [
    "### Desafio 02"
   ],
   "cell_type": "markdown",
   "metadata": {}
  },
  {
   "cell_type": "code",
   "execution_count": 64,
   "metadata": {},
   "outputs": [
    {
     "output_type": "execute_result",
     "data": {
      "text/plain": [
       "tipo_doenca  COVID            total\n",
       "sexo             F    I     M      \n",
       "faixa_etaria                       \n",
       "10 - 19        0.1  0.0   0.1   0.2\n",
       "20 - 29        0.4  0.0   0.5   0.9\n",
       "30 - 39        1.0  0.0   1.5   2.5\n",
       "40 - 49        2.2  0.0   3.7   5.9\n",
       "50 - 59        4.3  0.0   7.2  11.5\n",
       "60 - 69        8.4  0.0  13.0  21.4\n",
       "70 - 79       10.7  0.0  15.4  26.1\n",
       "80 - 89       10.3  0.0  11.7  22.0\n",
       "90 - 99        4.7  0.0   3.6   8.3\n",
       "< 9            0.2  0.0   0.2   0.4\n",
       "> 100          0.4  0.0   0.2   0.6\n",
       "N/I            0.1  0.0   0.1   0.2"
      ],
      "text/html": "<div>\n<style scoped>\n    .dataframe tbody tr th:only-of-type {\n        vertical-align: middle;\n    }\n\n    .dataframe tbody tr th {\n        vertical-align: top;\n    }\n\n    .dataframe thead tr th {\n        text-align: left;\n    }\n\n    .dataframe thead tr:last-of-type th {\n        text-align: right;\n    }\n</style>\n<table border=\"1\" class=\"dataframe\">\n  <thead>\n    <tr>\n      <th>tipo_doenca</th>\n      <th colspan=\"3\" halign=\"left\">COVID</th>\n      <th>total</th>\n    </tr>\n    <tr>\n      <th>sexo</th>\n      <th>F</th>\n      <th>I</th>\n      <th>M</th>\n      <th></th>\n    </tr>\n    <tr>\n      <th>faixa_etaria</th>\n      <th></th>\n      <th></th>\n      <th></th>\n      <th></th>\n    </tr>\n  </thead>\n  <tbody>\n    <tr>\n      <th>10 - 19</th>\n      <td>0.1</td>\n      <td>0.0</td>\n      <td>0.1</td>\n      <td>0.2</td>\n    </tr>\n    <tr>\n      <th>20 - 29</th>\n      <td>0.4</td>\n      <td>0.0</td>\n      <td>0.5</td>\n      <td>0.9</td>\n    </tr>\n    <tr>\n      <th>30 - 39</th>\n      <td>1.0</td>\n      <td>0.0</td>\n      <td>1.5</td>\n      <td>2.5</td>\n    </tr>\n    <tr>\n      <th>40 - 49</th>\n      <td>2.2</td>\n      <td>0.0</td>\n      <td>3.7</td>\n      <td>5.9</td>\n    </tr>\n    <tr>\n      <th>50 - 59</th>\n      <td>4.3</td>\n      <td>0.0</td>\n      <td>7.2</td>\n      <td>11.5</td>\n    </tr>\n    <tr>\n      <th>60 - 69</th>\n      <td>8.4</td>\n      <td>0.0</td>\n      <td>13.0</td>\n      <td>21.4</td>\n    </tr>\n    <tr>\n      <th>70 - 79</th>\n      <td>10.7</td>\n      <td>0.0</td>\n      <td>15.4</td>\n      <td>26.1</td>\n    </tr>\n    <tr>\n      <th>80 - 89</th>\n      <td>10.3</td>\n      <td>0.0</td>\n      <td>11.7</td>\n      <td>22.0</td>\n    </tr>\n    <tr>\n      <th>90 - 99</th>\n      <td>4.7</td>\n      <td>0.0</td>\n      <td>3.6</td>\n      <td>8.3</td>\n    </tr>\n    <tr>\n      <th>&lt; 9</th>\n      <td>0.2</td>\n      <td>0.0</td>\n      <td>0.2</td>\n      <td>0.4</td>\n    </tr>\n    <tr>\n      <th>&gt; 100</th>\n      <td>0.4</td>\n      <td>0.0</td>\n      <td>0.2</td>\n      <td>0.6</td>\n    </tr>\n    <tr>\n      <th>N/I</th>\n      <td>0.1</td>\n      <td>0.0</td>\n      <td>0.1</td>\n      <td>0.2</td>\n    </tr>\n  </tbody>\n</table>\n</div>"
     },
     "metadata": {},
     "execution_count": 64
    }
   ],
   "source": [
    "# Obitos de COVID separados por faixa etária e sexo normalizados pelo total\n",
    "\n",
    "obitos_por_sexo_e_idade = pd.crosstab(index = dados_2020.faixa_etaria, columns=[dados_2020[dados_2020.tipo_doenca == 'COVID'].tipo_doenca, dados_2020.sexo], values=dados_2020.total, aggfunc='sum', normalize=True).round(3)*100\n",
    "\n",
    "obitos_por_sexo_e_idade['total'] = obtios_por_sexo_e_idade['COVID']['F'] + obitos_por_sexo_e_idade['COVID']['M'] + obitos_por_sexo_e_idade.COVID.I\n",
    "obitos_por_sexo_e_idade"
   ]
  },
  {
   "source": [
    "Pode-se notar um alto percentual de mortes nas pessoas acimas de 70 anos e a taxa de obito é sempre menor para as mulheres até chegar na faixa de 90-99 anos. Acredito que isso ocorra pois não sobram muitos homens para morrer, ou seja, a população de mulheres deve ser menor."
   ],
   "cell_type": "markdown",
   "metadata": {}
  },
  {
   "source": [
    "## Criação de funcão para plotar gráfico"
   ],
   "cell_type": "markdown",
   "metadata": {}
  },
  {
   "cell_type": "code",
   "execution_count": 206,
   "metadata": {},
   "outputs": [
    {
     "output_type": "display_data",
     "data": {
      "text/plain": "<Figure size 576x432 with 1 Axes>",
      "image/svg+xml": "<?xml version=\"1.0\" encoding=\"utf-8\" standalone=\"no\"?>\r\n<!DOCTYPE svg PUBLIC \"-//W3C//DTD SVG 1.1//EN\"\r\n  \"http://www.w3.org/Graphics/SVG/1.1/DTD/svg11.dtd\">\r\n<!-- Created with matplotlib (https://matplotlib.org/) -->\r\n<svg height=\"388.018125pt\" version=\"1.1\" viewBox=\"0 0 506.928125 388.018125\" width=\"506.928125pt\" xmlns=\"http://www.w3.org/2000/svg\" xmlns:xlink=\"http://www.w3.org/1999/xlink\">\r\n <metadata>\r\n  <rdf:RDF xmlns:cc=\"http://creativecommons.org/ns#\" xmlns:dc=\"http://purl.org/dc/elements/1.1/\" xmlns:rdf=\"http://www.w3.org/1999/02/22-rdf-syntax-ns#\">\r\n   <cc:Work>\r\n    <dc:type rdf:resource=\"http://purl.org/dc/dcmitype/StillImage\"/>\r\n    <dc:date>2021-01-07T18:25:03.029381</dc:date>\r\n    <dc:format>image/svg+xml</dc:format>\r\n    <dc:creator>\r\n     <cc:Agent>\r\n      <dc:title>Matplotlib v3.3.3, https://matplotlib.org/</dc:title>\r\n     </cc:Agent>\r\n    </dc:creator>\r\n   </cc:Work>\r\n  </rdf:RDF>\r\n </metadata>\r\n <defs>\r\n  <style type=\"text/css\">*{stroke-linecap:butt;stroke-linejoin:round;}</style>\r\n </defs>\r\n <g id=\"figure_1\">\r\n  <g id=\"patch_1\">\r\n   <path d=\"M 0 388.018125 \r\nL 506.928125 388.018125 \r\nL 506.928125 0 \r\nL 0 0 \r\nz\r\n\" style=\"fill:none;\"/>\r\n  </g>\r\n  <g id=\"axes_1\">\r\n   <g id=\"patch_2\">\r\n    <path d=\"M 53.328125 350.461875 \r\nL 499.728125 350.461875 \r\nL 499.728125 24.301875 \r\nL 53.328125 24.301875 \r\nz\r\n\" style=\"fill:#ffffff;\"/>\r\n   </g>\r\n   <g id=\"patch_3\">\r\n    <path clip-path=\"url(#pbf8cd9e08b)\" d=\"M 75.648125 350.461875 \r\nL 254.208125 350.461875 \r\nL 254.208125 312.491841 \r\nL 75.648125 312.491841 \r\nz\r\n\" style=\"fill:#3274a1;\"/>\r\n   </g>\r\n   <g id=\"patch_4\">\r\n    <path clip-path=\"url(#pbf8cd9e08b)\" d=\"M 298.848125 350.461875 \r\nL 477.408125 350.461875 \r\nL 477.408125 39.833304 \r\nL 298.848125 39.833304 \r\nz\r\n\" style=\"fill:#e1812c;\"/>\r\n   </g>\r\n   <g id=\"matplotlib.axis_1\">\r\n    <g id=\"xtick_1\">\r\n     <g id=\"line2d_1\">\r\n      <defs>\r\n       <path d=\"M 0 0 \r\nL 0 3.5 \r\n\" id=\"m6d62baf6a9\" style=\"stroke:#000000;stroke-width:0.8;\"/>\r\n      </defs>\r\n      <g>\r\n       <use style=\"stroke:#000000;stroke-width:0.8;\" x=\"164.928125\" xlink:href=\"#m6d62baf6a9\" y=\"350.461875\"/>\r\n      </g>\r\n     </g>\r\n     <g id=\"text_1\">\r\n      <!-- 2019 -->\r\n      <g transform=\"translate(152.203125 365.060312)scale(0.1 -0.1)\">\r\n       <defs>\r\n        <path d=\"M 19.1875 8.296875 \r\nL 53.609375 8.296875 \r\nL 53.609375 0 \r\nL 7.328125 0 \r\nL 7.328125 8.296875 \r\nQ 12.9375 14.109375 22.625 23.890625 \r\nQ 32.328125 33.6875 34.8125 36.53125 \r\nQ 39.546875 41.84375 41.421875 45.53125 \r\nQ 43.3125 49.21875 43.3125 52.78125 \r\nQ 43.3125 58.59375 39.234375 62.25 \r\nQ 35.15625 65.921875 28.609375 65.921875 \r\nQ 23.96875 65.921875 18.8125 64.3125 \r\nQ 13.671875 62.703125 7.8125 59.421875 \r\nL 7.8125 69.390625 \r\nQ 13.765625 71.78125 18.9375 73 \r\nQ 24.125 74.21875 28.421875 74.21875 \r\nQ 39.75 74.21875 46.484375 68.546875 \r\nQ 53.21875 62.890625 53.21875 53.421875 \r\nQ 53.21875 48.921875 51.53125 44.890625 \r\nQ 49.859375 40.875 45.40625 35.40625 \r\nQ 44.1875 33.984375 37.640625 27.21875 \r\nQ 31.109375 20.453125 19.1875 8.296875 \r\nz\r\n\" id=\"DejaVuSans-50\"/>\r\n        <path d=\"M 31.78125 66.40625 \r\nQ 24.171875 66.40625 20.328125 58.90625 \r\nQ 16.5 51.421875 16.5 36.375 \r\nQ 16.5 21.390625 20.328125 13.890625 \r\nQ 24.171875 6.390625 31.78125 6.390625 \r\nQ 39.453125 6.390625 43.28125 13.890625 \r\nQ 47.125 21.390625 47.125 36.375 \r\nQ 47.125 51.421875 43.28125 58.90625 \r\nQ 39.453125 66.40625 31.78125 66.40625 \r\nz\r\nM 31.78125 74.21875 \r\nQ 44.046875 74.21875 50.515625 64.515625 \r\nQ 56.984375 54.828125 56.984375 36.375 \r\nQ 56.984375 17.96875 50.515625 8.265625 \r\nQ 44.046875 -1.421875 31.78125 -1.421875 \r\nQ 19.53125 -1.421875 13.0625 8.265625 \r\nQ 6.59375 17.96875 6.59375 36.375 \r\nQ 6.59375 54.828125 13.0625 64.515625 \r\nQ 19.53125 74.21875 31.78125 74.21875 \r\nz\r\n\" id=\"DejaVuSans-48\"/>\r\n        <path d=\"M 12.40625 8.296875 \r\nL 28.515625 8.296875 \r\nL 28.515625 63.921875 \r\nL 10.984375 60.40625 \r\nL 10.984375 69.390625 \r\nL 28.421875 72.90625 \r\nL 38.28125 72.90625 \r\nL 38.28125 8.296875 \r\nL 54.390625 8.296875 \r\nL 54.390625 0 \r\nL 12.40625 0 \r\nz\r\n\" id=\"DejaVuSans-49\"/>\r\n        <path d=\"M 10.984375 1.515625 \r\nL 10.984375 10.5 \r\nQ 14.703125 8.734375 18.5 7.8125 \r\nQ 22.3125 6.890625 25.984375 6.890625 \r\nQ 35.75 6.890625 40.890625 13.453125 \r\nQ 46.046875 20.015625 46.78125 33.40625 \r\nQ 43.953125 29.203125 39.59375 26.953125 \r\nQ 35.25 24.703125 29.984375 24.703125 \r\nQ 19.046875 24.703125 12.671875 31.3125 \r\nQ 6.296875 37.9375 6.296875 49.421875 \r\nQ 6.296875 60.640625 12.9375 67.421875 \r\nQ 19.578125 74.21875 30.609375 74.21875 \r\nQ 43.265625 74.21875 49.921875 64.515625 \r\nQ 56.59375 54.828125 56.59375 36.375 \r\nQ 56.59375 19.140625 48.40625 8.859375 \r\nQ 40.234375 -1.421875 26.421875 -1.421875 \r\nQ 22.703125 -1.421875 18.890625 -0.6875 \r\nQ 15.09375 0.046875 10.984375 1.515625 \r\nz\r\nM 30.609375 32.421875 \r\nQ 37.25 32.421875 41.125 36.953125 \r\nQ 45.015625 41.5 45.015625 49.421875 \r\nQ 45.015625 57.28125 41.125 61.84375 \r\nQ 37.25 66.40625 30.609375 66.40625 \r\nQ 23.96875 66.40625 20.09375 61.84375 \r\nQ 16.21875 57.28125 16.21875 49.421875 \r\nQ 16.21875 41.5 20.09375 36.953125 \r\nQ 23.96875 32.421875 30.609375 32.421875 \r\nz\r\n\" id=\"DejaVuSans-57\"/>\r\n       </defs>\r\n       <use xlink:href=\"#DejaVuSans-50\"/>\r\n       <use x=\"63.623047\" xlink:href=\"#DejaVuSans-48\"/>\r\n       <use x=\"127.246094\" xlink:href=\"#DejaVuSans-49\"/>\r\n       <use x=\"190.869141\" xlink:href=\"#DejaVuSans-57\"/>\r\n      </g>\r\n     </g>\r\n    </g>\r\n    <g id=\"xtick_2\">\r\n     <g id=\"line2d_2\">\r\n      <g>\r\n       <use style=\"stroke:#000000;stroke-width:0.8;\" x=\"388.128125\" xlink:href=\"#m6d62baf6a9\" y=\"350.461875\"/>\r\n      </g>\r\n     </g>\r\n     <g id=\"text_2\">\r\n      <!-- 2020 -->\r\n      <g transform=\"translate(375.403125 365.060312)scale(0.1 -0.1)\">\r\n       <use xlink:href=\"#DejaVuSans-50\"/>\r\n       <use x=\"63.623047\" xlink:href=\"#DejaVuSans-48\"/>\r\n       <use x=\"127.246094\" xlink:href=\"#DejaVuSans-50\"/>\r\n       <use x=\"190.869141\" xlink:href=\"#DejaVuSans-48\"/>\r\n      </g>\r\n     </g>\r\n    </g>\r\n    <g id=\"text_3\">\r\n     <!-- Ano -->\r\n     <g transform=\"translate(266.879687 378.738437)scale(0.1 -0.1)\">\r\n      <defs>\r\n       <path d=\"M 34.1875 63.1875 \r\nL 20.796875 26.90625 \r\nL 47.609375 26.90625 \r\nz\r\nM 28.609375 72.90625 \r\nL 39.796875 72.90625 \r\nL 67.578125 0 \r\nL 57.328125 0 \r\nL 50.6875 18.703125 \r\nL 17.828125 18.703125 \r\nL 11.1875 0 \r\nL 0.78125 0 \r\nz\r\n\" id=\"DejaVuSans-65\"/>\r\n       <path d=\"M 54.890625 33.015625 \r\nL 54.890625 0 \r\nL 45.90625 0 \r\nL 45.90625 32.71875 \r\nQ 45.90625 40.484375 42.875 44.328125 \r\nQ 39.84375 48.1875 33.796875 48.1875 \r\nQ 26.515625 48.1875 22.3125 43.546875 \r\nQ 18.109375 38.921875 18.109375 30.90625 \r\nL 18.109375 0 \r\nL 9.078125 0 \r\nL 9.078125 54.6875 \r\nL 18.109375 54.6875 \r\nL 18.109375 46.1875 \r\nQ 21.34375 51.125 25.703125 53.5625 \r\nQ 30.078125 56 35.796875 56 \r\nQ 45.21875 56 50.046875 50.171875 \r\nQ 54.890625 44.34375 54.890625 33.015625 \r\nz\r\n\" id=\"DejaVuSans-110\"/>\r\n       <path d=\"M 30.609375 48.390625 \r\nQ 23.390625 48.390625 19.1875 42.75 \r\nQ 14.984375 37.109375 14.984375 27.296875 \r\nQ 14.984375 17.484375 19.15625 11.84375 \r\nQ 23.34375 6.203125 30.609375 6.203125 \r\nQ 37.796875 6.203125 41.984375 11.859375 \r\nQ 46.1875 17.53125 46.1875 27.296875 \r\nQ 46.1875 37.015625 41.984375 42.703125 \r\nQ 37.796875 48.390625 30.609375 48.390625 \r\nz\r\nM 30.609375 56 \r\nQ 42.328125 56 49.015625 48.375 \r\nQ 55.71875 40.765625 55.71875 27.296875 \r\nQ 55.71875 13.875 49.015625 6.21875 \r\nQ 42.328125 -1.421875 30.609375 -1.421875 \r\nQ 18.84375 -1.421875 12.171875 6.21875 \r\nQ 5.515625 13.875 5.515625 27.296875 \r\nQ 5.515625 40.765625 12.171875 48.375 \r\nQ 18.84375 56 30.609375 56 \r\nz\r\n\" id=\"DejaVuSans-111\"/>\r\n      </defs>\r\n      <use xlink:href=\"#DejaVuSans-65\"/>\r\n      <use x=\"68.408203\" xlink:href=\"#DejaVuSans-110\"/>\r\n      <use x=\"131.787109\" xlink:href=\"#DejaVuSans-111\"/>\r\n     </g>\r\n    </g>\r\n   </g>\r\n   <g id=\"matplotlib.axis_2\">\r\n    <g id=\"ytick_1\">\r\n     <g id=\"line2d_3\">\r\n      <defs>\r\n       <path d=\"M 0 0 \r\nL -3.5 0 \r\n\" id=\"md13c65257d\" style=\"stroke:#000000;stroke-width:0.8;\"/>\r\n      </defs>\r\n      <g>\r\n       <use style=\"stroke:#000000;stroke-width:0.8;\" x=\"53.328125\" xlink:href=\"#md13c65257d\" y=\"350.461875\"/>\r\n      </g>\r\n     </g>\r\n     <g id=\"text_4\">\r\n      <!-- 0 -->\r\n      <g transform=\"translate(39.965625 354.261094)scale(0.1 -0.1)\">\r\n       <use xlink:href=\"#DejaVuSans-48\"/>\r\n      </g>\r\n     </g>\r\n    </g>\r\n    <g id=\"ytick_2\">\r\n     <g id=\"line2d_4\">\r\n      <g>\r\n       <use style=\"stroke:#000000;stroke-width:0.8;\" x=\"53.328125\" xlink:href=\"#md13c65257d\" y=\"285.666595\"/>\r\n      </g>\r\n     </g>\r\n     <g id=\"text_5\">\r\n      <!-- 500 -->\r\n      <g transform=\"translate(27.240625 289.465814)scale(0.1 -0.1)\">\r\n       <defs>\r\n        <path d=\"M 10.796875 72.90625 \r\nL 49.515625 72.90625 \r\nL 49.515625 64.59375 \r\nL 19.828125 64.59375 \r\nL 19.828125 46.734375 \r\nQ 21.96875 47.46875 24.109375 47.828125 \r\nQ 26.265625 48.1875 28.421875 48.1875 \r\nQ 40.625 48.1875 47.75 41.5 \r\nQ 54.890625 34.8125 54.890625 23.390625 \r\nQ 54.890625 11.625 47.5625 5.09375 \r\nQ 40.234375 -1.421875 26.90625 -1.421875 \r\nQ 22.3125 -1.421875 17.546875 -0.640625 \r\nQ 12.796875 0.140625 7.71875 1.703125 \r\nL 7.71875 11.625 \r\nQ 12.109375 9.234375 16.796875 8.0625 \r\nQ 21.484375 6.890625 26.703125 6.890625 \r\nQ 35.15625 6.890625 40.078125 11.328125 \r\nQ 45.015625 15.765625 45.015625 23.390625 \r\nQ 45.015625 31 40.078125 35.4375 \r\nQ 35.15625 39.890625 26.703125 39.890625 \r\nQ 22.75 39.890625 18.8125 39.015625 \r\nQ 14.890625 38.140625 10.796875 36.28125 \r\nz\r\n\" id=\"DejaVuSans-53\"/>\r\n       </defs>\r\n       <use xlink:href=\"#DejaVuSans-53\"/>\r\n       <use x=\"63.623047\" xlink:href=\"#DejaVuSans-48\"/>\r\n       <use x=\"127.246094\" xlink:href=\"#DejaVuSans-48\"/>\r\n      </g>\r\n     </g>\r\n    </g>\r\n    <g id=\"ytick_3\">\r\n     <g id=\"line2d_5\">\r\n      <g>\r\n       <use style=\"stroke:#000000;stroke-width:0.8;\" x=\"53.328125\" xlink:href=\"#md13c65257d\" y=\"220.871315\"/>\r\n      </g>\r\n     </g>\r\n     <g id=\"text_6\">\r\n      <!-- 1000 -->\r\n      <g transform=\"translate(20.878125 224.670534)scale(0.1 -0.1)\">\r\n       <use xlink:href=\"#DejaVuSans-49\"/>\r\n       <use x=\"63.623047\" xlink:href=\"#DejaVuSans-48\"/>\r\n       <use x=\"127.246094\" xlink:href=\"#DejaVuSans-48\"/>\r\n       <use x=\"190.869141\" xlink:href=\"#DejaVuSans-48\"/>\r\n      </g>\r\n     </g>\r\n    </g>\r\n    <g id=\"ytick_4\">\r\n     <g id=\"line2d_6\">\r\n      <g>\r\n       <use style=\"stroke:#000000;stroke-width:0.8;\" x=\"53.328125\" xlink:href=\"#md13c65257d\" y=\"156.076036\"/>\r\n      </g>\r\n     </g>\r\n     <g id=\"text_7\">\r\n      <!-- 1500 -->\r\n      <g transform=\"translate(20.878125 159.875254)scale(0.1 -0.1)\">\r\n       <use xlink:href=\"#DejaVuSans-49\"/>\r\n       <use x=\"63.623047\" xlink:href=\"#DejaVuSans-53\"/>\r\n       <use x=\"127.246094\" xlink:href=\"#DejaVuSans-48\"/>\r\n       <use x=\"190.869141\" xlink:href=\"#DejaVuSans-48\"/>\r\n      </g>\r\n     </g>\r\n    </g>\r\n    <g id=\"ytick_5\">\r\n     <g id=\"line2d_7\">\r\n      <g>\r\n       <use style=\"stroke:#000000;stroke-width:0.8;\" x=\"53.328125\" xlink:href=\"#md13c65257d\" y=\"91.280756\"/>\r\n      </g>\r\n     </g>\r\n     <g id=\"text_8\">\r\n      <!-- 2000 -->\r\n      <g transform=\"translate(20.878125 95.079974)scale(0.1 -0.1)\">\r\n       <use xlink:href=\"#DejaVuSans-50\"/>\r\n       <use x=\"63.623047\" xlink:href=\"#DejaVuSans-48\"/>\r\n       <use x=\"127.246094\" xlink:href=\"#DejaVuSans-48\"/>\r\n       <use x=\"190.869141\" xlink:href=\"#DejaVuSans-48\"/>\r\n      </g>\r\n     </g>\r\n    </g>\r\n    <g id=\"ytick_6\">\r\n     <g id=\"line2d_8\">\r\n      <g>\r\n       <use style=\"stroke:#000000;stroke-width:0.8;\" x=\"53.328125\" xlink:href=\"#md13c65257d\" y=\"26.485476\"/>\r\n      </g>\r\n     </g>\r\n     <g id=\"text_9\">\r\n      <!-- 2500 -->\r\n      <g transform=\"translate(20.878125 30.284695)scale(0.1 -0.1)\">\r\n       <use xlink:href=\"#DejaVuSans-50\"/>\r\n       <use x=\"63.623047\" xlink:href=\"#DejaVuSans-53\"/>\r\n       <use x=\"127.246094\" xlink:href=\"#DejaVuSans-48\"/>\r\n       <use x=\"190.869141\" xlink:href=\"#DejaVuSans-48\"/>\r\n      </g>\r\n     </g>\r\n    </g>\r\n    <g id=\"text_10\">\r\n     <!-- Total -->\r\n     <g transform=\"translate(14.798438 199.058437)rotate(-90)scale(0.1 -0.1)\">\r\n      <defs>\r\n       <path d=\"M -0.296875 72.90625 \r\nL 61.375 72.90625 \r\nL 61.375 64.59375 \r\nL 35.5 64.59375 \r\nL 35.5 0 \r\nL 25.59375 0 \r\nL 25.59375 64.59375 \r\nL -0.296875 64.59375 \r\nz\r\n\" id=\"DejaVuSans-84\"/>\r\n       <path d=\"M 18.3125 70.21875 \r\nL 18.3125 54.6875 \r\nL 36.8125 54.6875 \r\nL 36.8125 47.703125 \r\nL 18.3125 47.703125 \r\nL 18.3125 18.015625 \r\nQ 18.3125 11.328125 20.140625 9.421875 \r\nQ 21.96875 7.515625 27.59375 7.515625 \r\nL 36.8125 7.515625 \r\nL 36.8125 0 \r\nL 27.59375 0 \r\nQ 17.1875 0 13.234375 3.875 \r\nQ 9.28125 7.765625 9.28125 18.015625 \r\nL 9.28125 47.703125 \r\nL 2.6875 47.703125 \r\nL 2.6875 54.6875 \r\nL 9.28125 54.6875 \r\nL 9.28125 70.21875 \r\nz\r\n\" id=\"DejaVuSans-116\"/>\r\n       <path d=\"M 34.28125 27.484375 \r\nQ 23.390625 27.484375 19.1875 25 \r\nQ 14.984375 22.515625 14.984375 16.5 \r\nQ 14.984375 11.71875 18.140625 8.90625 \r\nQ 21.296875 6.109375 26.703125 6.109375 \r\nQ 34.1875 6.109375 38.703125 11.40625 \r\nQ 43.21875 16.703125 43.21875 25.484375 \r\nL 43.21875 27.484375 \r\nz\r\nM 52.203125 31.203125 \r\nL 52.203125 0 \r\nL 43.21875 0 \r\nL 43.21875 8.296875 \r\nQ 40.140625 3.328125 35.546875 0.953125 \r\nQ 30.953125 -1.421875 24.3125 -1.421875 \r\nQ 15.921875 -1.421875 10.953125 3.296875 \r\nQ 6 8.015625 6 15.921875 \r\nQ 6 25.140625 12.171875 29.828125 \r\nQ 18.359375 34.515625 30.609375 34.515625 \r\nL 43.21875 34.515625 \r\nL 43.21875 35.40625 \r\nQ 43.21875 41.609375 39.140625 45 \r\nQ 35.0625 48.390625 27.6875 48.390625 \r\nQ 23 48.390625 18.546875 47.265625 \r\nQ 14.109375 46.140625 10.015625 43.890625 \r\nL 10.015625 52.203125 \r\nQ 14.9375 54.109375 19.578125 55.046875 \r\nQ 24.21875 56 28.609375 56 \r\nQ 40.484375 56 46.34375 49.84375 \r\nQ 52.203125 43.703125 52.203125 31.203125 \r\nz\r\n\" id=\"DejaVuSans-97\"/>\r\n       <path d=\"M 9.421875 75.984375 \r\nL 18.40625 75.984375 \r\nL 18.40625 0 \r\nL 9.421875 0 \r\nz\r\n\" id=\"DejaVuSans-108\"/>\r\n      </defs>\r\n      <use xlink:href=\"#DejaVuSans-84\"/>\r\n      <use x=\"44.083984\" xlink:href=\"#DejaVuSans-111\"/>\r\n      <use x=\"105.265625\" xlink:href=\"#DejaVuSans-116\"/>\r\n      <use x=\"144.474609\" xlink:href=\"#DejaVuSans-97\"/>\r\n      <use x=\"205.753906\" xlink:href=\"#DejaVuSans-108\"/>\r\n     </g>\r\n    </g>\r\n   </g>\r\n   <g id=\"line2d_9\">\r\n    <path clip-path=\"url(#pbf8cd9e08b)\" style=\"fill:none;stroke:#424242;stroke-linecap:square;stroke-width:2.7;\"/>\r\n   </g>\r\n   <g id=\"line2d_10\">\r\n    <path clip-path=\"url(#pbf8cd9e08b)\" style=\"fill:none;stroke:#424242;stroke-linecap:square;stroke-width:2.7;\"/>\r\n   </g>\r\n   <g id=\"patch_5\">\r\n    <path d=\"M 53.328125 350.461875 \r\nL 53.328125 24.301875 \r\n\" style=\"fill:none;stroke:#000000;stroke-linecap:square;stroke-linejoin:miter;stroke-width:0.8;\"/>\r\n   </g>\r\n   <g id=\"patch_6\">\r\n    <path d=\"M 499.728125 350.461875 \r\nL 499.728125 24.301875 \r\n\" style=\"fill:none;stroke:#000000;stroke-linecap:square;stroke-linejoin:miter;stroke-width:0.8;\"/>\r\n   </g>\r\n   <g id=\"patch_7\">\r\n    <path d=\"M 53.328125 350.461875 \r\nL 499.728125 350.461875 \r\n\" style=\"fill:none;stroke:#000000;stroke-linecap:square;stroke-linejoin:miter;stroke-width:0.8;\"/>\r\n   </g>\r\n   <g id=\"patch_8\">\r\n    <path d=\"M 53.328125 24.301875 \r\nL 499.728125 24.301875 \r\n\" style=\"fill:none;stroke:#000000;stroke-linecap:square;stroke-linejoin:miter;stroke-width:0.8;\"/>\r\n   </g>\r\n   <g id=\"text_11\">\r\n    <!-- Óbitos por SRAG: SP -->\r\n    <g transform=\"translate(215.677812 18.301875)scale(0.12 -0.12)\">\r\n     <defs>\r\n      <path d=\"M 39.40625 66.21875 \r\nQ 28.65625 66.21875 22.328125 58.203125 \r\nQ 16.015625 50.203125 16.015625 36.375 \r\nQ 16.015625 22.609375 22.328125 14.59375 \r\nQ 28.65625 6.59375 39.40625 6.59375 \r\nQ 50.140625 6.59375 56.421875 14.59375 \r\nQ 62.703125 22.609375 62.703125 36.375 \r\nQ 62.703125 50.203125 56.421875 58.203125 \r\nQ 50.140625 66.21875 39.40625 66.21875 \r\nz\r\nM 39.40625 74.21875 \r\nQ 54.734375 74.21875 63.90625 63.9375 \r\nQ 73.09375 53.65625 73.09375 36.375 \r\nQ 73.09375 19.140625 63.90625 8.859375 \r\nQ 54.734375 -1.421875 39.40625 -1.421875 \r\nQ 24.03125 -1.421875 14.8125 8.828125 \r\nQ 5.609375 19.09375 5.609375 36.375 \r\nQ 5.609375 53.65625 14.8125 63.9375 \r\nQ 24.03125 74.21875 39.40625 74.21875 \r\nz\r\nM 42.0625 92.515625 \r\nL 51.09375 92.515625 \r\nL 39.96875 79.625 \r\nL 32.484375 79.625 \r\nz\r\n\" id=\"DejaVuSans-211\"/>\r\n      <path d=\"M 48.6875 27.296875 \r\nQ 48.6875 37.203125 44.609375 42.84375 \r\nQ 40.53125 48.484375 33.40625 48.484375 \r\nQ 26.265625 48.484375 22.1875 42.84375 \r\nQ 18.109375 37.203125 18.109375 27.296875 \r\nQ 18.109375 17.390625 22.1875 11.75 \r\nQ 26.265625 6.109375 33.40625 6.109375 \r\nQ 40.53125 6.109375 44.609375 11.75 \r\nQ 48.6875 17.390625 48.6875 27.296875 \r\nz\r\nM 18.109375 46.390625 \r\nQ 20.953125 51.265625 25.265625 53.625 \r\nQ 29.59375 56 35.59375 56 \r\nQ 45.5625 56 51.78125 48.09375 \r\nQ 58.015625 40.1875 58.015625 27.296875 \r\nQ 58.015625 14.40625 51.78125 6.484375 \r\nQ 45.5625 -1.421875 35.59375 -1.421875 \r\nQ 29.59375 -1.421875 25.265625 0.953125 \r\nQ 20.953125 3.328125 18.109375 8.203125 \r\nL 18.109375 0 \r\nL 9.078125 0 \r\nL 9.078125 75.984375 \r\nL 18.109375 75.984375 \r\nz\r\n\" id=\"DejaVuSans-98\"/>\r\n      <path d=\"M 9.421875 54.6875 \r\nL 18.40625 54.6875 \r\nL 18.40625 0 \r\nL 9.421875 0 \r\nz\r\nM 9.421875 75.984375 \r\nL 18.40625 75.984375 \r\nL 18.40625 64.59375 \r\nL 9.421875 64.59375 \r\nz\r\n\" id=\"DejaVuSans-105\"/>\r\n      <path d=\"M 44.28125 53.078125 \r\nL 44.28125 44.578125 \r\nQ 40.484375 46.53125 36.375 47.5 \r\nQ 32.28125 48.484375 27.875 48.484375 \r\nQ 21.1875 48.484375 17.84375 46.4375 \r\nQ 14.5 44.390625 14.5 40.28125 \r\nQ 14.5 37.15625 16.890625 35.375 \r\nQ 19.28125 33.59375 26.515625 31.984375 \r\nL 29.59375 31.296875 \r\nQ 39.15625 29.25 43.1875 25.515625 \r\nQ 47.21875 21.78125 47.21875 15.09375 \r\nQ 47.21875 7.46875 41.1875 3.015625 \r\nQ 35.15625 -1.421875 24.609375 -1.421875 \r\nQ 20.21875 -1.421875 15.453125 -0.5625 \r\nQ 10.6875 0.296875 5.421875 2 \r\nL 5.421875 11.28125 \r\nQ 10.40625 8.6875 15.234375 7.390625 \r\nQ 20.0625 6.109375 24.8125 6.109375 \r\nQ 31.15625 6.109375 34.5625 8.28125 \r\nQ 37.984375 10.453125 37.984375 14.40625 \r\nQ 37.984375 18.0625 35.515625 20.015625 \r\nQ 33.0625 21.96875 24.703125 23.78125 \r\nL 21.578125 24.515625 \r\nQ 13.234375 26.265625 9.515625 29.90625 \r\nQ 5.8125 33.546875 5.8125 39.890625 \r\nQ 5.8125 47.609375 11.28125 51.796875 \r\nQ 16.75 56 26.8125 56 \r\nQ 31.78125 56 36.171875 55.265625 \r\nQ 40.578125 54.546875 44.28125 53.078125 \r\nz\r\n\" id=\"DejaVuSans-115\"/>\r\n      <path id=\"DejaVuSans-32\"/>\r\n      <path d=\"M 18.109375 8.203125 \r\nL 18.109375 -20.796875 \r\nL 9.078125 -20.796875 \r\nL 9.078125 54.6875 \r\nL 18.109375 54.6875 \r\nL 18.109375 46.390625 \r\nQ 20.953125 51.265625 25.265625 53.625 \r\nQ 29.59375 56 35.59375 56 \r\nQ 45.5625 56 51.78125 48.09375 \r\nQ 58.015625 40.1875 58.015625 27.296875 \r\nQ 58.015625 14.40625 51.78125 6.484375 \r\nQ 45.5625 -1.421875 35.59375 -1.421875 \r\nQ 29.59375 -1.421875 25.265625 0.953125 \r\nQ 20.953125 3.328125 18.109375 8.203125 \r\nz\r\nM 48.6875 27.296875 \r\nQ 48.6875 37.203125 44.609375 42.84375 \r\nQ 40.53125 48.484375 33.40625 48.484375 \r\nQ 26.265625 48.484375 22.1875 42.84375 \r\nQ 18.109375 37.203125 18.109375 27.296875 \r\nQ 18.109375 17.390625 22.1875 11.75 \r\nQ 26.265625 6.109375 33.40625 6.109375 \r\nQ 40.53125 6.109375 44.609375 11.75 \r\nQ 48.6875 17.390625 48.6875 27.296875 \r\nz\r\n\" id=\"DejaVuSans-112\"/>\r\n      <path d=\"M 41.109375 46.296875 \r\nQ 39.59375 47.171875 37.8125 47.578125 \r\nQ 36.03125 48 33.890625 48 \r\nQ 26.265625 48 22.1875 43.046875 \r\nQ 18.109375 38.09375 18.109375 28.8125 \r\nL 18.109375 0 \r\nL 9.078125 0 \r\nL 9.078125 54.6875 \r\nL 18.109375 54.6875 \r\nL 18.109375 46.1875 \r\nQ 20.953125 51.171875 25.484375 53.578125 \r\nQ 30.03125 56 36.53125 56 \r\nQ 37.453125 56 38.578125 55.875 \r\nQ 39.703125 55.765625 41.0625 55.515625 \r\nz\r\n\" id=\"DejaVuSans-114\"/>\r\n      <path d=\"M 53.515625 70.515625 \r\nL 53.515625 60.890625 \r\nQ 47.90625 63.578125 42.921875 64.890625 \r\nQ 37.9375 66.21875 33.296875 66.21875 \r\nQ 25.25 66.21875 20.875 63.09375 \r\nQ 16.5 59.96875 16.5 54.203125 \r\nQ 16.5 49.359375 19.40625 46.890625 \r\nQ 22.3125 44.4375 30.421875 42.921875 \r\nL 36.375 41.703125 \r\nQ 47.40625 39.59375 52.65625 34.296875 \r\nQ 57.90625 29 57.90625 20.125 \r\nQ 57.90625 9.515625 50.796875 4.046875 \r\nQ 43.703125 -1.421875 29.984375 -1.421875 \r\nQ 24.8125 -1.421875 18.96875 -0.25 \r\nQ 13.140625 0.921875 6.890625 3.21875 \r\nL 6.890625 13.375 \r\nQ 12.890625 10.015625 18.65625 8.296875 \r\nQ 24.421875 6.59375 29.984375 6.59375 \r\nQ 38.421875 6.59375 43.015625 9.90625 \r\nQ 47.609375 13.234375 47.609375 19.390625 \r\nQ 47.609375 24.75 44.3125 27.78125 \r\nQ 41.015625 30.8125 33.5 32.328125 \r\nL 27.484375 33.5 \r\nQ 16.453125 35.6875 11.515625 40.375 \r\nQ 6.59375 45.0625 6.59375 53.421875 \r\nQ 6.59375 63.09375 13.40625 68.65625 \r\nQ 20.21875 74.21875 32.171875 74.21875 \r\nQ 37.3125 74.21875 42.625 73.28125 \r\nQ 47.953125 72.359375 53.515625 70.515625 \r\nz\r\n\" id=\"DejaVuSans-83\"/>\r\n      <path d=\"M 44.390625 34.1875 \r\nQ 47.5625 33.109375 50.5625 29.59375 \r\nQ 53.5625 26.078125 56.59375 19.921875 \r\nL 66.609375 0 \r\nL 56 0 \r\nL 46.6875 18.703125 \r\nQ 43.0625 26.03125 39.671875 28.421875 \r\nQ 36.28125 30.8125 30.421875 30.8125 \r\nL 19.671875 30.8125 \r\nL 19.671875 0 \r\nL 9.8125 0 \r\nL 9.8125 72.90625 \r\nL 32.078125 72.90625 \r\nQ 44.578125 72.90625 50.734375 67.671875 \r\nQ 56.890625 62.453125 56.890625 51.90625 \r\nQ 56.890625 45.015625 53.6875 40.46875 \r\nQ 50.484375 35.9375 44.390625 34.1875 \r\nz\r\nM 19.671875 64.796875 \r\nL 19.671875 38.921875 \r\nL 32.078125 38.921875 \r\nQ 39.203125 38.921875 42.84375 42.21875 \r\nQ 46.484375 45.515625 46.484375 51.90625 \r\nQ 46.484375 58.296875 42.84375 61.546875 \r\nQ 39.203125 64.796875 32.078125 64.796875 \r\nz\r\n\" id=\"DejaVuSans-82\"/>\r\n      <path d=\"M 59.515625 10.40625 \r\nL 59.515625 29.984375 \r\nL 43.40625 29.984375 \r\nL 43.40625 38.09375 \r\nL 69.28125 38.09375 \r\nL 69.28125 6.78125 \r\nQ 63.578125 2.734375 56.6875 0.65625 \r\nQ 49.8125 -1.421875 42 -1.421875 \r\nQ 24.90625 -1.421875 15.25 8.5625 \r\nQ 5.609375 18.5625 5.609375 36.375 \r\nQ 5.609375 54.25 15.25 64.234375 \r\nQ 24.90625 74.21875 42 74.21875 \r\nQ 49.125 74.21875 55.546875 72.453125 \r\nQ 61.96875 70.703125 67.390625 67.28125 \r\nL 67.390625 56.78125 \r\nQ 61.921875 61.421875 55.765625 63.765625 \r\nQ 49.609375 66.109375 42.828125 66.109375 \r\nQ 29.4375 66.109375 22.71875 58.640625 \r\nQ 16.015625 51.171875 16.015625 36.375 \r\nQ 16.015625 21.625 22.71875 14.15625 \r\nQ 29.4375 6.6875 42.828125 6.6875 \r\nQ 48.046875 6.6875 52.140625 7.59375 \r\nQ 56.25 8.5 59.515625 10.40625 \r\nz\r\n\" id=\"DejaVuSans-71\"/>\r\n      <path d=\"M 11.71875 12.40625 \r\nL 22.015625 12.40625 \r\nL 22.015625 0 \r\nL 11.71875 0 \r\nz\r\nM 11.71875 51.703125 \r\nL 22.015625 51.703125 \r\nL 22.015625 39.3125 \r\nL 11.71875 39.3125 \r\nz\r\n\" id=\"DejaVuSans-58\"/>\r\n      <path d=\"M 19.671875 64.796875 \r\nL 19.671875 37.40625 \r\nL 32.078125 37.40625 \r\nQ 38.96875 37.40625 42.71875 40.96875 \r\nQ 46.484375 44.53125 46.484375 51.125 \r\nQ 46.484375 57.671875 42.71875 61.234375 \r\nQ 38.96875 64.796875 32.078125 64.796875 \r\nz\r\nM 9.8125 72.90625 \r\nL 32.078125 72.90625 \r\nQ 44.34375 72.90625 50.609375 67.359375 \r\nQ 56.890625 61.8125 56.890625 51.125 \r\nQ 56.890625 40.328125 50.609375 34.8125 \r\nQ 44.34375 29.296875 32.078125 29.296875 \r\nL 19.671875 29.296875 \r\nL 19.671875 0 \r\nL 9.8125 0 \r\nz\r\n\" id=\"DejaVuSans-80\"/>\r\n     </defs>\r\n     <use xlink:href=\"#DejaVuSans-211\"/>\r\n     <use x=\"78.710938\" xlink:href=\"#DejaVuSans-98\"/>\r\n     <use x=\"142.1875\" xlink:href=\"#DejaVuSans-105\"/>\r\n     <use x=\"169.970703\" xlink:href=\"#DejaVuSans-116\"/>\r\n     <use x=\"209.179688\" xlink:href=\"#DejaVuSans-111\"/>\r\n     <use x=\"270.361328\" xlink:href=\"#DejaVuSans-115\"/>\r\n     <use x=\"322.460938\" xlink:href=\"#DejaVuSans-32\"/>\r\n     <use x=\"354.248047\" xlink:href=\"#DejaVuSans-112\"/>\r\n     <use x=\"417.724609\" xlink:href=\"#DejaVuSans-111\"/>\r\n     <use x=\"478.90625\" xlink:href=\"#DejaVuSans-114\"/>\r\n     <use x=\"520.019531\" xlink:href=\"#DejaVuSans-32\"/>\r\n     <use x=\"551.806641\" xlink:href=\"#DejaVuSans-83\"/>\r\n     <use x=\"615.283203\" xlink:href=\"#DejaVuSans-82\"/>\r\n     <use x=\"680.765625\" xlink:href=\"#DejaVuSans-65\"/>\r\n     <use x=\"747.423828\" xlink:href=\"#DejaVuSans-71\"/>\r\n     <use x=\"824.914062\" xlink:href=\"#DejaVuSans-58\"/>\r\n     <use x=\"858.605469\" xlink:href=\"#DejaVuSans-32\"/>\r\n     <use x=\"890.392578\" xlink:href=\"#DejaVuSans-83\"/>\r\n     <use x=\"953.869141\" xlink:href=\"#DejaVuSans-80\"/>\r\n    </g>\r\n   </g>\r\n  </g>\r\n </g>\r\n <defs>\r\n  <clipPath id=\"pbf8cd9e08b\">\r\n   <rect height=\"326.16\" width=\"446.4\" x=\"53.328125\" y=\"24.301875\"/>\r\n  </clipPath>\r\n </defs>\r\n</svg>\r\n",
      "image/png": "[encoded data removed]"
     },
     "metadata": {
      "needs_background": "light"
     }
    }
   ],
   "source": [
    "def grafico_comparativo(causa = 'Todas doenças', estado = 'Brasil'):\n",
    "\n",
    "    estados = dados_2019.uf.unique()\n",
    "    \n",
    "    if estado != 'Brasil':\n",
    "        if estado in estados:\n",
    "            seletor_estado_2019 = dados_2019.uf == estado\n",
    "            seletor_estado_2020 = dados_2020.uf == estado\n",
    "            total_2019 = dados_2019[seletor_estado_2019].groupby('tipo_doenca').sum()\n",
    "            total_2020 = dados_2020[seletor_estado_2020].groupby('tipo_doenca').sum()\n",
    "        else:\n",
    "            print('Estado {estado} não encontrado')\n",
    "            return\n",
    "    if not estado:\n",
    "        total_2019 = dados_2019.groupby('tipo_doenca').sum()\n",
    "        total_2020 = dados_2020.groupby('tipo_doenca').sum()\n",
    "\n",
    "    \n",
    "    if causa == 'Todas':\n",
    "        dados = pd.concat([total_2019, total_2020], keys=['2019','2020']).reset_index()\n",
    "        \n",
    "        plt.figure(figsize=(12,6))\n",
    "        plt.title(f'Óbitos por {causa}: {estado}')\n",
    "        sns.barplot(x = 'tipo_doenca', y = 'total', hue = 'level_0', data = dados)\n",
    "        plt.legend(title='Ano')\n",
    "        plt.xticks(rotation=13)\n",
    "                             \n",
    "    else:\n",
    "        lista = [int(total_2019.loc[causa]), int(total_2020.loc[causa])]\n",
    "        dados = pd.DataFrame({'Total' : lista,\n",
    "                            'Ano' : [2019, 2020]})\n",
    "\n",
    "        plt.figure(figsize=(8,6))\n",
    "        plt.title(f'Óbitos por {causa}: {estado}')\n",
    "        sns.barplot(x = 'Ano', y = 'Total', data = dados)\n",
    "\n",
    "    plt.show()\n",
    "\n",
    "grafico_comparativo('SRAG', 'SP')"
   ]
  },
  {
   "cell_type": "code",
   "execution_count": null,
   "metadata": {},
   "outputs": [],
   "source": []
  }
 ],
 "metadata": {
  "kernelspec": {
   "name": "python3",
   "display_name": "Python 3.7.9 64-bit ('venv')",
   "metadata": {
    "interpreter": {
     "hash": "047b72afc96b34ee7bde8ed16e9d302ddb8ebc0540daf5b920d83b94ecfa163d"
    }
   }
  },
  "language_info": {
   "codemirror_mode": {
    "name": "ipython",
    "version": 2
   },
   "file_extension": ".py",
   "mimetype": "text/x-python",
   "name": "python",
   "nbconvert_exporter": "python",
   "pygments_lexer": "ipython2",
   "version": "3.7.9-final"
  }
 },
 "nbformat": 4,
 "nbformat_minor": 0
}